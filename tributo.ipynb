{
  "nbformat": 4,
  "nbformat_minor": 0,
  "metadata": {
    "colab": {
      "provenance": [],
      "authorship_tag": "ABX9TyNK8SSxBkp3QnWAz3ZwLZJd",
      "include_colab_link": true
    },
    "kernelspec": {
      "name": "python3",
      "display_name": "Python 3"
    },
    "language_info": {
      "name": "python"
    }
  },
  "cells": [
    {
      "cell_type": "markdown",
      "metadata": {
        "id": "view-in-github",
        "colab_type": "text"
      },
      "source": [
        "<a href=\"https://colab.research.google.com/github/lad98/PARCIAL-UNO/blob/main/tributo.ipynb\" target=\"_parent\"><img src=\"https://colab.research.google.com/assets/colab-badge.svg\" alt=\"Open In Colab\"/></a>"
      ]
    },
    {
      "cell_type": "code",
      "execution_count": 1,
      "metadata": {
        "colab": {
          "base_uri": "https://localhost:8080/"
        },
        "id": "rQ7cv4eDSCs9",
        "outputId": "ee40589a-3d3d-43c4-ec61-b20f63e64dc2"
      },
      "outputs": [
        {
          "output_type": "stream",
          "name": "stdout",
          "text": [
            "Ingrese sus ganancias en monedas de oro:34000\n",
            "El valor a pagar es: 2400.0 monedas de oro\n"
          ]
        }
      ],
      "source": [
        "S = int(input(\"Ingrese sus ganancias en monedas de oro:\"))\n",
        "#Ciclo para asegurar que la entrada sea un número válido\n",
        "while S<0:\n",
        "    try:\n",
        "        S = int(input(\"El número ingresado no es correcto, ingrese otra vez sus ganancias:\"))\n",
        "        break\n",
        "    except ValueError:\n",
        "        print(\"Ese no es un número positivo, intenta de nuevo\")\n",
        "if S <= 10000:\n",
        "    print (\"El valor a pagar es: 0 monedas de oro\")\n",
        "elif S>=10001 and S <50000:\n",
        "    S = (S - 10000) * 0.10\n",
        "    print (f\"El valor a pagar es: {S} monedas de oro\")\n",
        "elif S >= 50000:\n",
        "   if S<= 90000:\n",
        "    S = S/10\n",
        "    print (f\"El valor a pagar es: {S} monedas de oro\")\n",
        "   else :\n",
        "    S = (S * 2 )/10\n",
        "    print (f\"El valor a pagar es: {S} monedas de oro\")"
      ]
    }
  ]
}